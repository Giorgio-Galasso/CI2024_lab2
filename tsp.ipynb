{
 "cells": [
  {
   "cell_type": "markdown",
   "metadata": {
    "vscode": {
     "languageId": "plaintext"
    }
   },
   "source": [
    "Copyright **`(c)`** 2024 Giovanni Squillero `<giovanni.squillero@polito.it>`  \n",
    "[`https://github.com/squillero/computational-intelligence`](https://github.com/squillero/computational-intelligence)  \n",
    "Free under certain conditions — see the [`license`](https://github.com/squillero/computational-intelligence/blob/master/LICENSE.md) for details.  "
   ]
  },
  {
   "cell_type": "code",
   "execution_count": 1058,
   "metadata": {},
   "outputs": [],
   "source": [
    "import logging\n",
    "from itertools import combinations\n",
    "import pandas as pd\n",
    "import numpy as np\n",
    "from geopy.distance import geodesic\n",
    "import networkx as nx\n",
    "import random\n",
    "from tqdm.auto import tqdm\n",
    "from matplotlib import pyplot as plt\n",
    "from itertools import accumulate\n",
    "from icecream import ic\n",
    "\n",
    "logging.basicConfig(level=logging.DEBUG)"
   ]
  },
  {
   "cell_type": "code",
   "execution_count": null,
   "metadata": {},
   "outputs": [],
   "source": [
    "CITIES = pd.read_csv('cities/italy.csv', header=None, names=['name', 'lat', 'lon'])\n",
    "DIST_MATRIX = np.zeros((len(CITIES), len(CITIES)))\n",
    "for c1, c2 in combinations(CITIES.itertuples(), 2):\n",
    "    DIST_MATRIX[c1.Index, c2.Index] = DIST_MATRIX[c2.Index, c1.Index] = geodesic(\n",
    "        (c1.lat, c1.lon), (c2.lat, c2.lon)\n",
    "    ).km\n",
    "CITIES.head()"
   ]
  },
  {
   "cell_type": "markdown",
   "metadata": {},
   "source": [
    "## Lab2 - TSP\n",
    "\n",
    "https://www.wolframcloud.com/obj/giovanni.squillero/Published/Lab2-tsp.nb"
   ]
  },
  {
   "cell_type": "code",
   "execution_count": 1060,
   "metadata": {},
   "outputs": [],
   "source": [
    "def tsp_cost(tsp):\n",
    "    assert tsp[0] == tsp[-1]\n",
    "    assert set(tsp) == set(range(len(CITIES)))\n",
    "\n",
    "    tot_cost = 0\n",
    "    for c1, c2 in zip(tsp, tsp[1:]):\n",
    "        tot_cost += DIST_MATRIX[c1, c2]\n",
    "    return tot_cost\n",
    "\n",
    "def fitness(solution: np.ndarray):\n",
    "    return -tsp_cost(solution)"
   ]
  },
  {
   "cell_type": "markdown",
   "metadata": {},
   "source": [
    "## First Greedy Algorithm"
   ]
  },
  {
   "cell_type": "code",
   "execution_count": 1061,
   "metadata": {},
   "outputs": [],
   "source": [
    "def greedy(city):\n",
    "    visited = np.full(len(CITIES), False)\n",
    "    dist = DIST_MATRIX.copy()\n",
    "    visited[city] = True\n",
    "    tsp = list()\n",
    "    tsp.append(int(city))\n",
    "    while not np.all(visited):\n",
    "        dist[:, city] = np.inf\n",
    "        closest = np.argmin(dist[city])\n",
    "        logging.debug(\n",
    "            f\"step: {CITIES.at[city,'name']} -> {CITIES.at[closest,'name']} ({DIST_MATRIX[city,closest]:.2f}km)\"\n",
    "        )\n",
    "        visited[closest] = True\n",
    "        city = closest\n",
    "        tsp.append(int(city))\n",
    "    logging.debug(\n",
    "        f\"step: {CITIES.at[tsp[-1],'name']} -> {CITIES.at[tsp[0],'name']} ({DIST_MATRIX[tsp[-1],tsp[0]]:.2f}km)\"\n",
    "    )\n",
    "    tsp.append(tsp[0])\n",
    "\n",
    "\n",
    "    logging.info(f\"result: Found a path of {len(tsp)-1} steps, total length {tsp_cost(tsp):.2f}km\")\n",
    "    return tsp"
   ]
  },
  {
   "cell_type": "markdown",
   "metadata": {},
   "source": [
    "## Simulated Annealing"
   ]
  },
  {
   "cell_type": "code",
   "execution_count": null,
   "metadata": {},
   "outputs": [],
   "source": [
    "#Ho provato a inizializzare la popolazione con un simulated annealing semplice ma i risultati non sono stati soddisfacenti.\n",
    "\n",
    "'''\n",
    "MAX_STEPS = 1000\n",
    "NUM_INDIVIDUALS = 10\n",
    "\n",
    "#EA\n",
    "population = []\n",
    "\n",
    "#Simulated Annealing\n",
    "\n",
    "for s in range(NUM_INDIVIDUALS):\n",
    "\n",
    "    #Soluzione casuale\n",
    "    visited = np.full(len(CITIES), False)\n",
    "    dist = DIST_MATRIX.copy()\n",
    "    solution = np.arange(len(CITIES))\n",
    "    np.random.shuffle(solution)\n",
    "    solution = np.append(solution, solution[0])\n",
    "    #ic(\"Soluzione random\",solution)\n",
    "\n",
    "    for n in tqdm(range(MAX_STEPS)):\n",
    "        # TWEAK!\n",
    "        new_solution = solution.copy()\n",
    "        #print(new_solution)\n",
    "        while True:\n",
    "            index1 = np.random.randint(0, len(CITIES))\n",
    "            index2 = np.random.randint(0, len(CITIES))\n",
    "            if index1 != index2:\n",
    "                break\n",
    "\n",
    "        new_solution[index1], new_solution[index2] = new_solution[index2], new_solution[index1]\n",
    "        if index1 == 0:\n",
    "            new_solution[-1] = new_solution[0]\n",
    "        if index2 == 0:\n",
    "            new_solution[-1] = new_solution[0]\n",
    "        if index1 == len(CITIES):\n",
    "            new_solution[0] = new_solution[-1]\n",
    "        if index2 == len(CITIES):\n",
    "            new_solution[0] = new_solution[-1]\n",
    "\n",
    "        #print(new_solution)\n",
    "\n",
    "        history.append(fitness(new_solution))\n",
    "        if tsp_cost(new_solution) < tsp_cost(solution):\n",
    "            solution = new_solution\n",
    "\n",
    "    population.append(solution)\n",
    "    '''\n",
    "'''\n",
    "# That's all...\n",
    "ic(fitness(solution))\n",
    "ic(history.index(fitness(solution)))\n",
    "ic(solution)\n",
    "'''\n",
    "\n",
    "'''plt.figure(figsize=(14, 8))\n",
    "plt.plot(\n",
    "    range(len(history)),\n",
    "    list(accumulate(history, max)),\n",
    "    color=\"red\",\n",
    ")\n",
    "_ = plt.scatter(range(len(history)), history, marker=\".\")'''\n",
    "\n"
   ]
  },
  {
   "cell_type": "markdown",
   "metadata": {},
   "source": [
    "__Generazione popolazione tramite Greedy__"
   ]
  },
  {
   "cell_type": "code",
   "execution_count": null,
   "metadata": {},
   "outputs": [],
   "source": [
    "population = []\n",
    "\n",
    "for i in range(CITIES.shape[0]):\n",
    "    population.append(np.array(greedy(i)))"
   ]
  },
  {
   "cell_type": "code",
   "execution_count": 1064,
   "metadata": {},
   "outputs": [],
   "source": [
    "max_segment_length = (CITIES.shape[0] // 2)\n",
    "dist = DIST_MATRIX.copy()\n",
    "\n",
    "def calculate_cost_ea(tour):\n",
    "    \"\"\" Calcola il costo totale del percorso \"\"\"\n",
    "    return sum(dist[tour[i], tour[i + 1]] for i in range(len(tour) - 1)) + dist[tour[-1], tour[0]]\n",
    "\n",
    "def fitness_ea(tour):\n",
    "    \"\"\" Calcola il fitness di un percorso (minimizzando il costo) \"\"\"\n",
    "    return -calculate_cost_ea(tour)\n",
    "\n",
    "def trim_last_city(population):\n",
    "    \"\"\" Rimuove l'ultima città (che è anche quella di partenza) da ogni percorso \"\"\"\n",
    "    return [tour[:-1] for tour in population]\n",
    "\n",
    "def inver_over_operator(parent1, parent2):\n",
    "\n",
    "    segment_length = random.randint(2, max_segment_length)\n",
    "    index1 = random.randint(0, len(parent1) - segment_length)\n",
    "    index2 = index1 + segment_length-1\n",
    "    segment = parent1[index1+1:index2][::-1]\n",
    "\n",
    "    child = np.insert(segment, 0, [parent1[index1], parent1[index2]])\n",
    "    diff = [x for x in parent2 if x not in child]\n",
    "    child = np.concatenate([diff, child])\n",
    "    \n",
    "    return child\n",
    "\n",
    "def rank_population(population):\n",
    "    \"\"\" Ordina la popolazione in base al fitness \"\"\"\n",
    "    sorted_population = sorted(population, key=lambda x: calculate_cost_ea(x))\n",
    "    return sorted_population\n",
    "\n",
    "\n",
    "def choose_parents(population):\n",
    "    \"\"\" Sceglie due genitori dalla popolazione \"\"\"\n",
    "\n",
    "    # Definisci un array di probabilità decrescente\n",
    "    probabilities = np.linspace(1, 0.1, len(population))  # Probabilità decrescenti\n",
    "    #x = np.arange(len(population))\n",
    "    #probabilities = np.exp(-x)\n",
    "    probabilities /= probabilities.sum()  # Normalizza le probabilità in modo che sommino a 1\n",
    "\n",
    "    # Seleziona un elemento con probabilità decrescente\n",
    "    selected_parents = np.random.choice(np.arange(len(population)), p=probabilities, size = 2)\n",
    "    #print(\"Elemento selezionato:\", selected_parents)\n",
    "\n",
    "\n",
    "    return selected_parents\n"
   ]
  },
  {
   "cell_type": "code",
   "execution_count": null,
   "metadata": {},
   "outputs": [],
   "source": [
    "MAX_STEPS_XOVER = range(1000)\n",
    "MAX_STEPS_EA = range(100)\n",
    "NUM_INDIVIDUALS = CITIES.shape[0]\n",
    "\n",
    "population = trim_last_city(population)\n",
    "offsprings = []\n",
    "\n",
    "population = rank_population(population)\n",
    "for _ in MAX_STEPS_EA:\n",
    "    for _ in MAX_STEPS_XOVER:\n",
    "\n",
    "        selected_parents = choose_parents(population)\n",
    "\n",
    "        offsprings.append(inver_over_operator(population[selected_parents[0]], population[selected_parents[1]]))\n",
    "\n",
    "    population = np.array(population)\n",
    "\n",
    "    population = np.concatenate([population, offsprings])\n",
    "    population = rank_population(population)\n",
    "    population = population[:NUM_INDIVIDUALS]\n",
    "\n",
    "ic(calculate_cost_ea(population[0]))"
   ]
  }
 ],
 "metadata": {
  "kernelspec": {
   "display_name": "Python 3",
   "language": "python",
   "name": "python3"
  },
  "language_info": {
   "codemirror_mode": {
    "name": "ipython",
    "version": 3
   },
   "file_extension": ".py",
   "mimetype": "text/x-python",
   "name": "python",
   "nbconvert_exporter": "python",
   "pygments_lexer": "ipython3",
   "version": "3.11.0"
  }
 },
 "nbformat": 4,
 "nbformat_minor": 2
}
